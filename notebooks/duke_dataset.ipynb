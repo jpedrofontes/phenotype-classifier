{
 "cells": [
  {
   "attachments": {},
   "cell_type": "markdown",
   "metadata": {},
   "source": [
    "# Duke Breast Cancer Dataset"
   ]
  },
  {
   "cell_type": "code",
   "execution_count": null,
   "metadata": {},
   "outputs": [],
   "source": [
    "import os\n",
    "import sys\n",
    "\n",
    "# Add the parent directory to the Python path\n",
    "sys.path.append(os.path.abspath(os.path.join(os.path.dirname(os.path.abspath(\"__file__\")), '..')))\n",
    "\n",
    "import matplotlib.pyplot as plt\n",
    "\n",
    "from datasets import DukeDataset\n",
    "from settings import Settings\n",
    "\n",
    "%matplotlib inline\n",
    "\n",
    "settings = Settings()"
   ]
  },
  {
   "attachments": {},
   "cell_type": "markdown",
   "metadata": {},
   "source": [
    "### Load dataset "
   ]
  },
  {
   "cell_type": "code",
   "execution_count": null,
   "metadata": {},
   "outputs": [],
   "source": [
    "dataset = DukeDataset(settings.DATASET_DIR, crop_size=settings.INPUT_SIZE)"
   ]
  },
  {
   "attachments": {},
   "cell_type": "markdown",
   "metadata": {},
   "source": [
    "### Show some stats about one series of data"
   ]
  },
  {
   "cell_type": "code",
   "execution_count": null,
   "metadata": {},
   "outputs": [],
   "source": [
    "print(\"\\nCases/Series: %d\" % len(list(dataset.volumes.keys())))\n",
    "key = list(dataset.volumes.keys())[168]\n",
    "print(\"\\nExample:\\n\\nCase/Series: %s\" % key)\n",
    "print(\"Phenotype: %s => %s\" % (\n",
    "    dataset.volumes[key][\"phenotype\"], settings.PHENOTYPES[dataset.volumes[key][\"phenotype\"]]))\n",
    "print(\"Number of tumor slices: %d\" % len(dataset.volumes[key][\"slices\"]))\n",
    "print(\"List of slices:\")\n",
    "for i in range(len(dataset.volumes[key][\"slices\"])):\n",
    "    slice = dataset.volumes[key][\"slices\"][i]\n",
    "    print(f\"\\t{slice}\")\n",
    "volume = dataset.process_scan(key)\n",
    "print(f\"\\nVolume shape (after pre-processing): {volume.shape}\")"
   ]
  },
  {
   "attachments": {},
   "cell_type": "markdown",
   "metadata": {},
   "source": [
    "### Show a figure with some slices "
   ]
  },
  {
   "cell_type": "code",
   "execution_count": null,
   "metadata": {},
   "outputs": [],
   "source": [
    "fig = plt.figure()\n",
    "fig.suptitle(\"Tumor Phenotype: {}\".format(\n",
    "    settings.PHENOTYPES[dataset.volumes[key][\"phenotype\"]]))\n",
    "ax = plt.subplot(2, 3, 1)\n",
    "ax.title.set_text('Slice 1')\n",
    "plt.imshow(volume[0, :, :].T)\n",
    "ax = plt.subplot(2, 3, 2)\n",
    "ax.title.set_text('Slice 20')\n",
    "plt.imshow(volume[19, :, :].T)\n",
    "ax = plt.subplot(2, 3, 3)\n",
    "ax.title.set_text('Slice 30')\n",
    "plt.imshow(volume[29, :].T)\n",
    "ax = plt.subplot(2, 3, 4)\n",
    "ax.title.set_text('Slice 40')\n",
    "plt.imshow(volume[39, :, :].T)\n",
    "ax = plt.subplot(2, 3, 5)\n",
    "ax.title.set_text('Slice 50')\n",
    "plt.imshow(volume[49, :, :].T)\n",
    "ax = plt.subplot(2, 3, 6)\n",
    "ax.title.set_text('Slice 64')\n",
    "plt.imshow(volume[63, :, :].T)\n",
    "plt.show()"
   ]
  }
 ],
 "metadata": {
  "kernelspec": {
   "display_name": "venv",
   "language": "python",
   "name": "python3"
  },
  "language_info": {
   "codemirror_mode": {
    "name": "ipython",
    "version": 3
   },
   "file_extension": ".py",
   "mimetype": "text/x-python",
   "name": "python",
   "nbconvert_exporter": "python",
   "pygments_lexer": "ipython3",
   "version": "3.10.12"
  },
  "orig_nbformat": 4,
  "vscode": {
   "interpreter": {
    "hash": "1d24e1409348a5d5097b15af44008974db4a72a95fee18c5701fd4200441249d"
   }
  }
 },
 "nbformat": 4,
 "nbformat_minor": 2
}
