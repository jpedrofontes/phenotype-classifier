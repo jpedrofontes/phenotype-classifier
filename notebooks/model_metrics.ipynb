{
 "cells": [
  {
   "cell_type": "markdown",
   "metadata": {},
   "source": [
    "# 3D CNN Model Metrics"
   ]
  },
  {
   "cell_type": "code",
   "execution_count": null,
   "metadata": {},
   "outputs": [],
   "source": [
    "import os\n",
    "import random\n",
    "import sys\n",
    "\n",
    "sys.path.append(os.path.abspath(os.path.join(os.path.dirname(os.path.abspath(\"__file__\")), '..')))\n",
    "\n",
    "import matplotlib.pyplot as plt\n",
    "import numpy as np\n",
    "import pandas as pd\n",
    "import tensorflow as tf\n",
    "from sklearn.metrics import roc_curve, roc_auc_score, accuracy_score, precision_score, recall_score, f1_score, confusion_matrix\n",
    "\n",
    "from datasets import DukeDataGenerator, DukeDataset\n",
    "from models import CNN3D\n",
    "from settings import Settings\n",
    "\n",
    "%matplotlib inline\n"
   ]
  },
  {
   "cell_type": "code",
   "execution_count": null,
   "metadata": {},
   "outputs": [],
   "source": [
    "settings = Settings()\n",
    "\n",
    "np.random.seed(settings.RANDOM_SEED)\n",
    "random.seed(settings.RANDOM_SEED)\n",
    "tf.random.set_seed(settings.RANDOM_SEED)\n",
    "\n",
    "JOB_ID = \"23187\"\n",
    "PHENOTYPE = 0\n",
    "WEIGHTS_PATH = os.path.join(settings.BASE_DATA_DIR, \"jobs\", JOB_ID, settings.PHENOTYPES[PHENOTYPE], \"checkpoints\", \"weights.h5\") "
   ]
  },
  {
   "cell_type": "markdown",
   "metadata": {},
   "source": [
    "### Load dataset "
   ]
  },
  {
   "cell_type": "code",
   "execution_count": null,
   "metadata": {},
   "outputs": [],
   "source": [
    "dataset = DukeDataset(settings.DATASET_DIR, crop_size=settings.INPUT_SIZE)\n",
    "train_generator = DukeDataGenerator(\n",
    "    settings.DATASET_DIR,\n",
    "    dataset=dataset,\n",
    "    stage=\"train\",\n",
    "    dim=settings.INPUT_SIZE,\n",
    "    batch_size=settings.BATCH_SIZE,\n",
    "    positive_class=PHENOTYPE,\n",
    "    autoencoder=False,\n",
    ")\n",
    "test_generator = DukeDataGenerator(\n",
    "    settings.DATASET_DIR,\n",
    "    dataset=dataset,\n",
    "    stage=\"test\",\n",
    "    dim=settings.INPUT_SIZE,\n",
    "    batch_size=settings.BATCH_SIZE,\n",
    "    positive_class=PHENOTYPE,\n",
    "    autoencoder=False,\n",
    ")"
   ]
  },
  {
   "cell_type": "markdown",
   "metadata": {},
   "source": [
    "### Model preparation"
   ]
  },
  {
   "cell_type": "code",
   "execution_count": null,
   "metadata": {},
   "outputs": [],
   "source": [
    "input_size = settings.INPUT_SIZE\n",
    "model = CNN3D(depth=input_size[0], width=input_size[1], height=input_size[2])\n",
    "model.built = True\n",
    "model.load_weights(WEIGHTS_PATH)"
   ]
  },
  {
   "cell_type": "markdown",
   "metadata": {},
   "source": [
    "### Get model predictions on test dataset"
   ]
  },
  {
   "cell_type": "code",
   "execution_count": null,
   "metadata": {},
   "outputs": [],
   "source": [
    "y_true = []\n",
    "y_pred = []\n",
    "\n",
    "for i in range(len(test_generator)):\n",
    "    x, y = test_generator[i]\n",
    "    y_true.extend(y)\n",
    "    y_pred.extend(model.predict(x).ravel())\n",
    "\n",
    "y_true = np.array(y_true)\n",
    "y_pred = np.array(y_pred)"
   ]
  },
  {
   "cell_type": "markdown",
   "metadata": {},
   "source": [
    "### Calculate and show metrics "
   ]
  },
  {
   "cell_type": "code",
   "execution_count": null,
   "metadata": {},
   "outputs": [],
   "source": [
    "roc_auc = roc_auc_score(y_true, y_pred)\n",
    "\n",
    "print(f\"Phenotype: {settings.PHENOTYPES[PHENOTYPE]} ({PHENOTYPE})\\n\")\n",
    "print(f\"Accuracy: {accuracy_score(y_true, y_pred > 0.5):.4f}\")\n",
    "print(f\"Precision: {precision_score(y_true, y_pred > 0.5):.4f}\")\n",
    "print(f\"Recall: {recall_score(y_true, y_pred > 0.5):.4f}\")\n",
    "print(f\"AUC: {roc_auc:.4f}\")\n",
    "print(f\"F1 Score: {f1_score(y_true, y_pred > 0.5):.4f}\")\n",
    "\n",
    "def calculate_binary_class_weights(labels):\n",
    "    \"\"\"\n",
    "    Calculate class weights for binary classification.\n",
    "\n",
    "    This function computes the weights for each class in a binary classification\n",
    "    problem to handle class imbalance. The weights are calculated based on the\n",
    "    inverse frequency of each class in the training data.\n",
    "\n",
    "    Parameters:\n",
    "        labels (array-like): Array of shape (n_samples,) containing the class labels\n",
    "                             for the training data. Must contain exactly two unique\n",
    "                             classes.\n",
    "\n",
    "    Returns:\n",
    "        dict: A dictionary where keys are the class labels and values are the\n",
    "              corresponding class weights.\n",
    "\n",
    "    Raises:\n",
    "        AssertionError: If the number of unique classes in labels is not equal to 2.\n",
    "    \"\"\"\n",
    "    class_weights = {}\n",
    "    total_samples = len(labels)\n",
    "    unique_classes = np.unique(labels)\n",
    "\n",
    "    assert unique_classes.shape[0] == 2, \"Only binary classification is supported\"\n",
    "\n",
    "    for cls in unique_classes:\n",
    "        n_x = np.sum(labels == cls)\n",
    "        class_weights[cls] = (1 / n_x) * (total_samples / 2)\n",
    "\n",
    "    return class_weights\n",
    "\n",
    "class_weights = calculate_binary_class_weights(y_true)\n",
    "sample_weights = np.array([class_weights[cls] for cls in y_true])\n",
    "weighted_auc = roc_auc_score(y_true, y_pred, sample_weight=sample_weights)\n",
    "\n",
    "print(f\"Weighted AUC: {weighted_auc:.4f}\")\n",
    "\n",
    "conf_matrix = confusion_matrix(y_true, y_pred > 0.5)\n",
    "conf_matrix_df = pd.DataFrame(\n",
    "    conf_matrix, index=np.unique(y_true), columns=np.unique(y_true)\n",
    ")\n",
    "\n",
    "print(\"\\nConfusion Matrix:\")\n",
    "print(conf_matrix_df)"
   ]
  },
  {
   "cell_type": "markdown",
   "metadata": {},
   "source": [
    "### Plot ROC Curve "
   ]
  },
  {
   "cell_type": "code",
   "execution_count": null,
   "metadata": {},
   "outputs": [],
   "source": [
    "fpr, tpr, _ = roc_curve(y_true, y_pred)\n",
    "plt.figure()\n",
    "plt.plot(fpr, tpr, color=\"blue\", lw=2, label=f\"ROC curve (AUC = {roc_auc:.4f})\")\n",
    "plt.plot([0, 1], [0, 1], color=\"black\", lw=2, linestyle=\"--\")\n",
    "plt.xlim([0.0, 1.0])\n",
    "plt.ylim([0.0, 1.05])\n",
    "plt.xlabel(\"False Positive Rate\")\n",
    "plt.ylabel(\"True Positive Rate\")\n",
    "plt.legend(loc=\"lower right\")\n",
    "plt.show() "
   ]
  }
 ],
 "metadata": {
  "kernelspec": {
   "display_name": "venv",
   "language": "python",
   "name": "python3"
  },
  "language_info": {
   "codemirror_mode": {
    "name": "ipython",
    "version": 3
   },
   "file_extension": ".py",
   "mimetype": "text/x-python",
   "name": "python",
   "nbconvert_exporter": "python",
   "pygments_lexer": "ipython3",
   "version": "3.10.12"
  }
 },
 "nbformat": 4,
 "nbformat_minor": 2
}
